{
 "cells": [
  {
   "cell_type": "code",
   "execution_count": 18,
   "id": "6c3f0cb2-840d-41c2-a819-0c9df41a98e0",
   "metadata": {},
   "outputs": [
    {
     "name": "stdout",
     "output_type": "stream",
     "text": [
      "Woof!\n",
      "Meowww!\n",
      "The area of circle is:\n",
      "50.24\n",
      "The area of square is:\n",
      "25\n",
      "Hi, my name is Rutuja and I am 19 years old.\n",
      "(6, 8)\n"
     ]
    }
   ],
   "source": [
    "class Animal:\n",
    "    def __init__(self, name, species, sound):\n",
    "        self.name = name\n",
    "        self.species = species\n",
    "        self.sound = sound\n",
    "\n",
    "    def speak(self):\n",
    "        print(f\"{self.name} says {self.sound}\")\n",
    "\n",
    "class Cat(Animal):\n",
    "    def __init__(self, name):\n",
    "        super().__init__(name, \"cat\", \"meow\")\n",
    "\n",
    "class Dog(Animal):\n",
    "    def __init__(self, name):\n",
    "        super().__init__(name, \"dog\", \"woof\")\n",
    "\n",
    "class Cow(Animal):\n",
    "    def __init__(self, name):\n",
    "        super().__init__(name, \"cow\", \"moo\")\n",
    "\n",
    "# Menu function\n",
    "def menu():\n",
    "    print(\"1. Create a cat\")\n",
    "    print(\"2. Create a dog\")\n",
    "    print(\"3. Create a cow\")\n",
    "    print(\"4. Exit\")\n",
    "    choice = input(\"Enter your choice: \")\n",
    "    return choice\n",
    "\n",
    "# Main function\n",
    "def main():\n",
    "    while True:\n",
    "        choice = menu()\n",
    "        if choice == \"1\":\n",
    "            name = input(\"Enter cat's name: \")\n",
    "            cat = Cat(name)\n",
    "            cat.speak()\n",
    "        elif choice == \"2\":\n",
    "            name = input(\"Enter dog's name: \")\n",
    "            dog = Dog(name)\n",
    "            dog.speak()\n",
    "        elif choice == \"3\":\n",
    "            name = input(\"Enter cow's name: \")\n",
    "            cow = Cow(name)\n",
    "            cow.speak()\n",
    "        elif choice == \"4\":\n",
    "            print(\"Exiting program...\")\n",
    "            break\n",
    "        else:\n",
    "            print(\"Invalid choice. Try again.\")\n",
    "\n",
    "if __name__ == \"__main__\":\n",
    "    main()\n"
   ]
  },
  {
   "cell_type": "code",
   "execution_count": null,
   "id": "0f3f8aec-9281-43cc-bba7-54cee05055dc",
   "metadata": {},
   "outputs": [],
   "source": []
  }
 ],
 "metadata": {
  "kernelspec": {
   "display_name": "anaconda-2022.05-py39",
   "language": "python",
   "name": "conda-env-anaconda-2022.05-py39-py"
  },
  "language_info": {
   "codemirror_mode": {
    "name": "ipython",
    "version": 3
   },
   "file_extension": ".py",
   "mimetype": "text/x-python",
   "name": "python",
   "nbconvert_exporter": "python",
   "pygments_lexer": "ipython3",
   "version": "3.9.12"
  }
 },
 "nbformat": 4,
 "nbformat_minor": 5
}
