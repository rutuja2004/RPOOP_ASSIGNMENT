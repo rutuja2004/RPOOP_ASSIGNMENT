{
 "cells": [
  {
   "cell_type": "code",
   "execution_count": 22,
   "id": "d46227cd-4dbc-4782-8bb4-ce497c15eee7",
   "metadata": {},
   "outputs": [
    {
     "name": "stdout",
     "output_type": "stream",
     "text": [
      "The area of rectangle is: 50\n",
      "The perimter of the rectangle is: 30\n",
      "Changed side paramters:\n",
      "(8, 12)\n",
      "The area of a square is: 25\n",
      "The perimeter of a square is: 20\n",
      "The changed dimensions is: None\n"
     ]
    }
   ],
   "source": [
    "class Animal:\n",
    "    def __init__(self, name, species, sound):\n",
    "        self.name = name\n",
    "        self.species = species\n",
    "        self.sound = sound\n",
    "\n",
    "    def speak(self):\n",
    "        print(f\"{self.name} says {self.sound}\")\n",
    "\n",
    "class Cat(Animal):\n",
    "    def __init__(self, name):\n",
    "        super().__init__(name, \"cat\", \"meow\")\n",
    "\n",
    "class Dog(Animal):\n",
    "    def __init__(self, name):\n",
    "        super().__init__(name, \"dog\", \"woof\")\n",
    "\n",
    "class Cow(Animal):\n",
    "    def __init__(self, name):\n",
    "        super().__init__(name, \"cow\", \"moo\")\n",
    "\n",
    "# Menu function\n",
    "def menu():\n",
    "    print(\"1. Create a cat\")\n",
    "    print(\"2. Create a dog\")\n",
    "    print(\"3. Create a cow\")\n",
    "    print(\"4. Exit\")\n",
    "    choice = input(\"Enter your choice: \")\n",
    "    return choice\n",
    "\n",
    "# Main function\n",
    "def main():\n",
    "    while True:\n",
    "        choice = menu()\n",
    "        if choice == \"1\":\n",
    "            name = input(\"Enter cat's name: \")\n",
    "            cat = Cat(name)\n",
    "            cat.speak()\n",
    "        elif choice == \"2\":\n",
    "            name = input(\"Enter dog's name: \")\n",
    "            dog = Dog(name)\n",
    "            dog.speak()\n",
    "        elif choice == \"3\":\n",
    "            name = input(\"Enter cow's name: \")\n",
    "            cow = Cow(name)\n",
    "            cow.speak()\n",
    "        elif choice == \"4\":\n",
    "            print(\"Exiting program...\")\n",
    "            break\n",
    "        else:\n",
    "            print(\"Invalid choice. Try again.\")\n",
    "\n",
    "if __name__ == \"__main__\":\n",
    "    main()\n"
   ]
  },
  {
   "cell_type": "code",
   "execution_count": null,
   "id": "e4f5293c-bb7d-43bb-be3b-e53902982b76",
   "metadata": {},
   "outputs": [],
   "source": []
  },
  {
   "cell_type": "code",
   "execution_count": null,
   "id": "d2c7d670-c12f-49df-bb90-d38d869e0723",
   "metadata": {},
   "outputs": [],
   "source": []
  }
 ],
 "metadata": {
  "kernelspec": {
   "display_name": "anaconda-2022.05-py39",
   "language": "python",
   "name": "conda-env-anaconda-2022.05-py39-py"
  },
  "language_info": {
   "codemirror_mode": {
    "name": "ipython",
    "version": 3
   },
   "file_extension": ".py",
   "mimetype": "text/x-python",
   "name": "python",
   "nbconvert_exporter": "python",
   "pygments_lexer": "ipython3",
   "version": "3.9.12"
  }
 },
 "nbformat": 4,
 "nbformat_minor": 5
}
