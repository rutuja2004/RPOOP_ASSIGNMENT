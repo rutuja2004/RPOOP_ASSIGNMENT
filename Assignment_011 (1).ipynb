{
 "cells": [
  {
   "cell_type": "code",
   "execution_count": 16,
   "id": "4e53b2cf-d3f6-4497-b3d2-82b33241896d",
   "metadata": {},
   "outputs": [
    {
     "name": "stdout",
     "output_type": "stream",
     "text": [
      "The length is: 12\n",
      "The breadth is : 2\n",
      "The area of the rectangle is: 24\n",
      "The perimeter of the rectangle is: 28\n",
      "\n",
      "After changing the dimensions\n",
      "The length is: 4\n",
      "The breadth is : 5\n",
      "The area of the rectangle is: 20\n",
      "The perimeter of the rectangle is: 18\n",
      "4\n",
      "5\n"
     ]
    }
   ],
   "source": [
    "class rectangle:\n",
    "    def __init__(self,length,breadth):\n",
    "        self.length = length\n",
    "        self.breadth = breadth\n",
    "        \n",
    "    def area(self):\n",
    "        print(\"The length is:\",self.length)\n",
    "        print(\"The breadth is :\",self.breadth)\n",
    "        print(\"The area of the rectangle is:\",self.length * self.breadth)\n",
    "    \n",
    "    def perimeter(self):\n",
    "        print(\"The perimeter of the rectangle is:\",2*(self.length + self.breadth))\n",
    "       \n",
    "    def change_dimensions(self,new_length,new_breadth):\n",
    "        self.length = new_length\n",
    "        self.breadth = new_breadth\n",
    "        print(\"\\nAfter changing the dimensions\")\n",
    "        \n",
    "    def report_dimensions(self):\n",
    "        print(self.length)\n",
    "        print(self.breadth)\n",
    "    \n",
    "        \n",
    "ans1 = rectangle(12,2)\n",
    "ans1.area()\n",
    "ans1.perimeter()\n",
    "\n",
    "ans1.change_dimensions(4,5)\n",
    "ans1.area()\n",
    "ans1.perimeter()\n",
    "ans1.report_dimensions()\n",
    "\n"
   ]
  },
  {
   "cell_type": "code",
   "execution_count": null,
   "id": "cb1af59b-af3c-4df7-94ee-afefe8085a8c",
   "metadata": {},
   "outputs": [],
   "source": []
  },
  {
   "cell_type": "code",
   "execution_count": null,
   "id": "4fa68478-9def-4081-9134-ea3915fe3da5",
   "metadata": {},
   "outputs": [],
   "source": []
  },
  {
   "cell_type": "code",
   "execution_count": null,
   "id": "20b6b660-9825-4e3c-8eca-f804970a59ab",
   "metadata": {},
   "outputs": [],
   "source": []
  },
  {
   "cell_type": "code",
   "execution_count": null,
   "id": "bca983b2-94ed-4d71-bdf9-d23a96b37c03",
   "metadata": {},
   "outputs": [],
   "source": []
  },
  {
   "cell_type": "code",
   "execution_count": null,
   "id": "bb716e33-c11b-4375-b78f-c13c889f15d1",
   "metadata": {},
   "outputs": [],
   "source": []
  },
  {
   "cell_type": "code",
   "execution_count": null,
   "id": "637d6bc7-4a19-480c-a278-22d96e8820bd",
   "metadata": {},
   "outputs": [],
   "source": []
  },
  {
   "cell_type": "code",
   "execution_count": null,
   "id": "5ea17aaa-dea6-4182-a596-248add547ee0",
   "metadata": {},
   "outputs": [],
   "source": []
  },
  {
   "cell_type": "code",
   "execution_count": null,
   "id": "894f3686-0bc2-4f1d-b6bf-fd07747eaa92",
   "metadata": {},
   "outputs": [],
   "source": []
  },
  {
   "cell_type": "code",
   "execution_count": null,
   "id": "e9aa37e2-5983-4e8b-a4cc-17c5c36ca032",
   "metadata": {},
   "outputs": [],
   "source": []
  },
  {
   "cell_type": "code",
   "execution_count": null,
   "id": "a5358605-c7d1-4171-802b-b137201c6cb8",
   "metadata": {},
   "outputs": [],
   "source": []
  },
  {
   "cell_type": "code",
   "execution_count": null,
   "id": "43bc5688-d5a9-4bbc-9e92-8321fdc4c7d8",
   "metadata": {},
   "outputs": [],
   "source": []
  },
  {
   "cell_type": "code",
   "execution_count": null,
   "id": "0006afbe-ee28-43eb-8f99-52e6fd4ed7f7",
   "metadata": {},
   "outputs": [],
   "source": []
  },
  {
   "cell_type": "code",
   "execution_count": null,
   "id": "6035ea06-c746-411e-8a19-dd4f579de3bb",
   "metadata": {},
   "outputs": [],
   "source": []
  }
 ],
 "metadata": {
  "kernelspec": {
   "display_name": "anaconda-2022.05-py39",
   "language": "python",
   "name": "conda-env-anaconda-2022.05-py39-py"
  },
  "language_info": {
   "codemirror_mode": {
    "name": "ipython",
    "version": 3
   },
   "file_extension": ".py",
   "mimetype": "text/x-python",
   "name": "python",
   "nbconvert_exporter": "python",
   "pygments_lexer": "ipython3",
   "version": "3.9.12"
  }
 },
 "nbformat": 4,
 "nbformat_minor": 5
}
